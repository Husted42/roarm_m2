{
 "cells": [
  {
   "cell_type": "code",
   "execution_count": 12,
   "id": "c820587f",
   "metadata": {},
   "outputs": [],
   "source": [
    "import sys\n",
    "sys.argv = ['test', '192.168.0.147']\n"
   ]
  },
  {
   "cell_type": "code",
   "execution_count": null,
   "id": "2221056a",
   "metadata": {},
   "outputs": [
    {
     "name": "stdout",
     "output_type": "stream",
     "text": [
      "TEST\n",
      "TEST\n",
      "null\n"
     ]
    }
   ],
   "source": [
    "import requests\n",
    "import argparse\n",
    "import json\n",
    "\n",
    "\n",
    "def main():\n",
    "\n",
    "    command = {\"T\":1051,\"x\":373.8055574,\"y\":287.1348881,\"z\":112.6639825,\"b\":0.655009796,\"s\":0.813009818,\"e\":0.859029241,\"t\":3.136990711,\"torB\":80,\"torS\":200,\"torE\":-116,\"torH\":0}\n",
    "    json_command = json.dumps(command)\n",
    "    ip_addr = '192.168.0.147'\n",
    "\n",
    "    url = \"http://\" + ip_addr + \"/js?json=\" + json_command\n",
    "    print(f\"Sending command to {url}\")\n",
    "    response = requests.get(url)\n",
    "    content = response.text\n",
    "    print(content)\n",
    "\n",
    "\n",
    "if __name__ == \"__main__\":\n",
    "    main()"
   ]
  }
 ],
 "metadata": {
  "kernelspec": {
   "display_name": "base",
   "language": "python",
   "name": "python3"
  },
  "language_info": {
   "codemirror_mode": {
    "name": "ipython",
    "version": 3
   },
   "file_extension": ".py",
   "mimetype": "text/x-python",
   "name": "python",
   "nbconvert_exporter": "python",
   "pygments_lexer": "ipython3",
   "version": "3.12.7"
  }
 },
 "nbformat": 4,
 "nbformat_minor": 5
}
